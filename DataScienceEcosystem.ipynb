{
 "cells": [
  {
   "cell_type": "markdown",
   "id": "1f933802-08f2-471d-93ef-e55efb124a43",
   "metadata": {},
   "source": [
    "# Data Science Tools and Ecosystem"
   ]
  },
  {
   "cell_type": "markdown",
   "id": "d2f8d2c5-76a5-4086-bcdd-396ced63e0d8",
   "metadata": {},
   "source": [
    "In this notebook, Data Science Tools and Ecosystem are summarized."
   ]
  },
  {
   "cell_type": "markdown",
   "id": "be30886c-8c8a-46f4-83bd-d9cfe64b696e",
   "metadata": {},
   "source": [
    "## Author :\n",
    "Youssef Moustaid"
   ]
  },
  {
   "cell_type": "markdown",
   "id": "6158ec95-5994-457a-94df-24a7bead34a6",
   "metadata": {
    "tags": []
   },
   "source": [
    "***Ojectives:***\n",
    "* Use the different documentation technoques : Headings(1-6) , tables , bold text ...\n",
    "* List popular languages for Data Science\n",
    "* Arithmetic operation in Python \n",
    "* list popular Libraries used in Data science "
   ]
  },
  {
   "cell_type": "markdown",
   "id": "c49224ad-a9f8-4224-b7ec-ccf59e5678e1",
   "metadata": {},
   "source": [
    "Some of the popular languages that Data Scientists use are:\n",
    "1. Python \n",
    "2. R\n",
    "3. Julia"
   ]
  },
  {
   "cell_type": "markdown",
   "id": "a7a935c7-cde5-475d-8916-3c586e10b789",
   "metadata": {},
   "source": [
    "Some of the commonly used libraries used by Data Scientists include: \n",
    "1. scikit-learn\n",
    "2. pandas \n",
    "3. numpy\n",
    "4. matplotlib\n",
    "5. ggplot2"
   ]
  },
  {
   "cell_type": "markdown",
   "id": "ef8e138c-cfc4-46cc-9db7-4c2990b64ee2",
   "metadata": {},
   "source": [
    "|Data Science Tools|\n",
    "|------------------|\n",
    "|Anaconda|\n",
    "|IBM MAX|\n",
    "|GIT|\n",
    "|Tenserflow|\n",
    "|Hadoop|\n",
    "|Spark|"
   ]
  },
  {
   "cell_type": "markdown",
   "id": "a5b2b6b9-8e42-4a2a-aee0-9d5875281c91",
   "metadata": {},
   "source": [
    "### Below are a few examples of evaluating arithmetic expressions in Python.\n",
    "\n",
    "* x = 10 \n",
    "* y = 20\n",
    "* z = x-y\n",
    "* z -= 1\n",
    "* x *= 10 \n"
   ]
  },
  {
   "cell_type": "code",
   "execution_count": 3,
   "id": "7559231d-cb57-4ba8-9435-e0c6df0f36a8",
   "metadata": {},
   "outputs": [
    {
     "name": "stdout",
     "output_type": "stream",
     "text": [
      "17\n"
     ]
    }
   ],
   "source": [
    "# this is a simple arithmetic expression to mutiply then add integers \n",
    "print((3*4)+5)"
   ]
  },
  {
   "cell_type": "code",
   "execution_count": 5,
   "id": "8f588f37-ba12-4154-ac4f-bca5c02a764c",
   "metadata": {},
   "outputs": [
    {
     "name": "stdout",
     "output_type": "stream",
     "text": [
      "3.3333333333333335\n"
     ]
    }
   ],
   "source": [
    "# This will convert 200 minutes to hours by diving by 60\n",
    "minutes = 200 \n",
    "hours = minutes / 60 \n",
    "print(hours)"
   ]
  },
  {
   "cell_type": "code",
   "execution_count": null,
   "id": "86cda9b1-f97f-4104-b946-4302dadb11a5",
   "metadata": {},
   "outputs": [],
   "source": []
  }
 ],
 "metadata": {
  "kernelspec": {
   "display_name": "Python 3 (ipykernel)",
   "language": "python",
   "name": "python3"
  },
  "language_info": {
   "codemirror_mode": {
    "name": "ipython",
    "version": 3
   },
   "file_extension": ".py",
   "mimetype": "text/x-python",
   "name": "python",
   "nbconvert_exporter": "python",
   "pygments_lexer": "ipython3",
   "version": "3.9.12"
  }
 },
 "nbformat": 4,
 "nbformat_minor": 5
}
